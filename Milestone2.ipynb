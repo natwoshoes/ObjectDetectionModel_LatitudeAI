{
  "nbformat": 4,
  "nbformat_minor": 0,
  "metadata": {
    "colab": {
      "provenance": [],
      "include_colab_link": true
    },
    "kernelspec": {
      "name": "python3",
      "display_name": "Python 3"
    },
    "language_info": {
      "name": "python"
    }
  },
  "cells": [
    {
      "cell_type": "markdown",
      "metadata": {
        "id": "view-in-github",
        "colab_type": "text"
      },
      "source": [
        "<a href=\"https://colab.research.google.com/github/natwoshoes/ObjectDetectionModel_LatitudeAI/blob/main/Milestone2.ipynb\" target=\"_parent\"><img src=\"https://colab.research.google.com/assets/colab-badge.svg\" alt=\"Open In Colab\"/></a>"
      ]
    },
    {
      "cell_type": "markdown",
      "source": [
        "#Latitude AI 1 - Milestone 2\n",
        "### Task:  generate 3D detections from an input image using the pretrained model. Brace yourself for challenges!"
      ],
      "metadata": {
        "id": "mqBLujtzqlq6"
      }
    },
    {
      "cell_type": "code",
      "source": [
        "!mkdir -p /data/sets/nuscenes  # Make the directory to store the nuScenes dataset in.\n",
        "\n",
        "!wget https://www.nuscenes.org/data/v1.0-mini.tgz  # Download the nuScenes mini split.\n",
        "\n",
        "!tar -xf v1.0-mini.tgz -C /data/sets/nuscenes  # Uncompress the nuScenes mini split.\n",
        "\n",
        "!pip install nuscenes-devkit &> /dev/null  # Install nuScenes."
      ],
      "metadata": {
        "colab": {
          "base_uri": "https://localhost:8080/"
        },
        "id": "-YiyIQz6p_Gq",
        "outputId": "b6aed0bc-0682-4235-b954-afe3380f0d1e"
      },
      "execution_count": null,
      "outputs": [
        {
          "output_type": "stream",
          "name": "stdout",
          "text": [
            "--2024-09-07 18:03:49--  https://www.nuscenes.org/data/v1.0-mini.tgz\n",
            "Resolving www.nuscenes.org (www.nuscenes.org)... 18.238.136.63, 18.238.136.129, 18.238.136.12, ...\n",
            "Connecting to www.nuscenes.org (www.nuscenes.org)|18.238.136.63|:443... connected.\n",
            "HTTP request sent, awaiting response... 200 OK\n",
            "Length: 4167696325 (3.9G) [application/x-tar]\n",
            "Saving to: ‘v1.0-mini.tgz’\n",
            "\n",
            "v1.0-mini.tgz       100%[===================>]   3.88G   175MB/s    in 27s     \n",
            "\n",
            "2024-09-07 18:04:16 (148 MB/s) - ‘v1.0-mini.tgz’ saved [4167696325/4167696325]\n",
            "\n"
          ]
        }
      ]
    },
    {
      "cell_type": "code",
      "execution_count": null,
      "metadata": {
        "id": "_j24HdJ2pPcI",
        "colab": {
          "base_uri": "https://localhost:8080/"
        },
        "outputId": "5cc880f0-6e0d-4857-a8e8-6e91a0e24490"
      },
      "outputs": [
        {
          "output_type": "stream",
          "name": "stdout",
          "text": [
            "Cloning into 'FastBEV'...\n",
            "remote: Enumerating objects: 252, done.\u001b[K\n",
            "remote: Counting objects: 100% (252/252), done.\u001b[K\n",
            "remote: Compressing objects: 100% (174/174), done.\u001b[K\n",
            "remote: Total 252 (delta 96), reused 211 (delta 61), pack-reused 0 (from 0)\u001b[K\n",
            "Receiving objects: 100% (252/252), 135.68 KiB | 1.46 MiB/s, done.\n",
            "Resolving deltas: 100% (96/96), done.\n"
          ]
        }
      ],
      "source": [
        "!git clone https://github.com/cyn-liu/FastBEV.git"
      ]
    }
  ]
}